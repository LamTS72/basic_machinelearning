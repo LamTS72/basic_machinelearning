{
 "cells": [
  {
   "cell_type": "code",
   "execution_count": 1,
   "metadata": {},
   "outputs": [
    {
     "name": "stdout",
     "output_type": "stream",
     "text": [
      "Difference between two methods should be small: 3.463880039015641e-08\n",
      "Difference between two methods should be small: 2.662212822623433e-09\n"
     ]
    }
   ],
   "source": [
    "from __future__ import print_function \n",
    "import numpy as np \n",
    "\n",
    "def check_grad(fn, gr, X):\n",
    "    # convert X to an 1d array, later we'll need only one for loop\n",
    "    X_flat    = X.reshape(-1)\n",
    "    shape_X   = X.shape                # original shape of X \n",
    "    num_grad  = np.zeros_like(X)       # numerical grad, shape = shape of X \n",
    "    grad_flat = np.zeros_like(X_flat)  # 1d version of grad\n",
    "    eps       = 1e-6            # a small number, 1e-10 -> 1e-6 is often good\n",
    "    numElems  = X_flat.shape[0] # number of elements in X \n",
    "    # calculate numerical gradient \n",
    "    for i in range(numElems):          # iterate over all elements of X \n",
    "        Xp_flat      = X_flat.copy()\n",
    "        Xn_flat      = X_flat.copy()\n",
    "        Xp_flat[i]  += eps\n",
    "        Xn_flat[i]  -= eps\n",
    "        Xp           = Xp_flat.reshape(shape_X) \n",
    "        Xn           = Xn_flat.reshape(shape_X)\n",
    "        grad_flat[i] = (fn(Xp) - fn(Xn))/(2*eps)\n",
    "\n",
    "    num_grad = grad_flat.reshape(shape_X) \n",
    "    \n",
    "    diff = np.linalg.norm(num_grad - gr(X))\n",
    "    print('Difference between two methods should be small:', diff)\n",
    "\n",
    "# ==== check if grad(trace(A*X)) == A^T ====\n",
    "m, n = 10, 20\n",
    "A = np.random.rand(m, n)\n",
    "X = np.random.rand(n, m)\n",
    "\n",
    "def fn1(X):\n",
    "    return np.trace(A.dot(X))\n",
    "\n",
    "def gr1(X):\n",
    "    return A.T \n",
    "\n",
    "check_grad(fn1, gr1, X)\n",
    "\n",
    "# ==== check if grad(x^T*A*x) == (A + A^T)*x  ====\n",
    "A = np.random.rand(m, m)\n",
    "x = np.random.rand(m, 1)\n",
    "\n",
    "def fn2(x):\n",
    "    return x.T.dot(A).dot(x) \n",
    "\n",
    "def gr2(x): \n",
    "    return (A+A.T).dot(x)\n",
    "\n",
    "check_grad(fn2, gr2, x)"
   ]
  },
  {
   "cell_type": "code",
   "execution_count": null,
   "metadata": {},
   "outputs": [],
   "source": []
  }
 ],
 "metadata": {
  "kernelspec": {
   "display_name": "PyJupyter",
   "language": "python",
   "name": "python3"
  },
  "language_info": {
   "codemirror_mode": {
    "name": "ipython",
    "version": 3
   },
   "file_extension": ".py",
   "mimetype": "text/x-python",
   "name": "python",
   "nbconvert_exporter": "python",
   "pygments_lexer": "ipython3",
   "version": "3.10.9"
  }
 },
 "nbformat": 4,
 "nbformat_minor": 2
}
